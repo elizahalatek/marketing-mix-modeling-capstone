{
 "cells": [
  {
   "cell_type": "markdown",
   "id": "5d544a9a-344d-4b15-b667-bd71041867f2",
   "metadata": {},
   "source": [
    "## LIBRARIES"
   ]
  },
  {
   "cell_type": "code",
   "execution_count": 1,
   "id": "ec7839bc-a91e-42f1-be2f-32258c7ebd18",
   "metadata": {},
   "outputs": [],
   "source": [
    "import pandas as pd\n",
    "import matplotlib.pyplot as plt\n",
    "import seaborn as sns"
   ]
  },
  {
   "cell_type": "markdown",
   "id": "86a08271-36c9-445c-82d8-2effb5f63d8c",
   "metadata": {},
   "source": [
    "### 1. Load the raw dataset"
   ]
  },
  {
   "cell_type": "code",
   "execution_count": 2,
   "id": "3e7a6ea5-f717-4f46-9644-46c77780adb3",
   "metadata": {},
   "outputs": [],
   "source": [
    "df = pd.read_csv('../03_Data/01_Raw/Sample Media Spend Data.csv')"
   ]
  },
  {
   "cell_type": "markdown",
   "id": "4c0cc27f-ca02-4588-ba61-942e76b68b79",
   "metadata": {},
   "source": [
    "Display the head"
   ]
  },
  {
   "cell_type": "code",
   "execution_count": 3,
   "id": "eb4ca7ad-7e60-4cb1-93f8-01da44ff5302",
   "metadata": {},
   "outputs": [
    {
     "data": {
      "text/html": [
       "<div>\n",
       "<style scoped>\n",
       "    .dataframe tbody tr th:only-of-type {\n",
       "        vertical-align: middle;\n",
       "    }\n",
       "\n",
       "    .dataframe tbody tr th {\n",
       "        vertical-align: top;\n",
       "    }\n",
       "\n",
       "    .dataframe thead th {\n",
       "        text-align: right;\n",
       "    }\n",
       "</style>\n",
       "<table border=\"1\" class=\"dataframe\">\n",
       "  <thead>\n",
       "    <tr style=\"text-align: right;\">\n",
       "      <th></th>\n",
       "      <th>Division</th>\n",
       "      <th>Calendar_Week</th>\n",
       "      <th>Paid_Views</th>\n",
       "      <th>Organic_Views</th>\n",
       "      <th>Google_Impressions</th>\n",
       "      <th>Email_Impressions</th>\n",
       "      <th>Facebook_Impressions</th>\n",
       "      <th>Affiliate_Impressions</th>\n",
       "      <th>Overall_Views</th>\n",
       "      <th>Sales</th>\n",
       "    </tr>\n",
       "  </thead>\n",
       "  <tbody>\n",
       "    <tr>\n",
       "      <th>0</th>\n",
       "      <td>A</td>\n",
       "      <td>1/6/2018</td>\n",
       "      <td>392</td>\n",
       "      <td>422</td>\n",
       "      <td>408</td>\n",
       "      <td>349895.0107</td>\n",
       "      <td>73580</td>\n",
       "      <td>12072</td>\n",
       "      <td>682</td>\n",
       "      <td>59417</td>\n",
       "    </tr>\n",
       "    <tr>\n",
       "      <th>1</th>\n",
       "      <td>A</td>\n",
       "      <td>1/13/2018</td>\n",
       "      <td>787</td>\n",
       "      <td>904</td>\n",
       "      <td>110</td>\n",
       "      <td>506270.2176</td>\n",
       "      <td>11804</td>\n",
       "      <td>9499</td>\n",
       "      <td>853</td>\n",
       "      <td>56806</td>\n",
       "    </tr>\n",
       "    <tr>\n",
       "      <th>2</th>\n",
       "      <td>A</td>\n",
       "      <td>1/20/2018</td>\n",
       "      <td>81</td>\n",
       "      <td>970</td>\n",
       "      <td>742</td>\n",
       "      <td>430042.1538</td>\n",
       "      <td>52232</td>\n",
       "      <td>17048</td>\n",
       "      <td>759</td>\n",
       "      <td>48715</td>\n",
       "    </tr>\n",
       "    <tr>\n",
       "      <th>3</th>\n",
       "      <td>A</td>\n",
       "      <td>1/27/2018</td>\n",
       "      <td>25</td>\n",
       "      <td>575</td>\n",
       "      <td>65</td>\n",
       "      <td>417745.6658</td>\n",
       "      <td>78640</td>\n",
       "      <td>10207</td>\n",
       "      <td>942</td>\n",
       "      <td>72047</td>\n",
       "    </tr>\n",
       "    <tr>\n",
       "      <th>4</th>\n",
       "      <td>A</td>\n",
       "      <td>2/3/2018</td>\n",
       "      <td>565</td>\n",
       "      <td>284</td>\n",
       "      <td>295</td>\n",
       "      <td>408505.8012</td>\n",
       "      <td>40561</td>\n",
       "      <td>5834</td>\n",
       "      <td>658</td>\n",
       "      <td>56235</td>\n",
       "    </tr>\n",
       "  </tbody>\n",
       "</table>\n",
       "</div>"
      ],
      "text/plain": [
       "  Division Calendar_Week  Paid_Views  Organic_Views  Google_Impressions  \\\n",
       "0        A      1/6/2018         392            422                 408   \n",
       "1        A     1/13/2018         787            904                 110   \n",
       "2        A     1/20/2018          81            970                 742   \n",
       "3        A     1/27/2018          25            575                  65   \n",
       "4        A      2/3/2018         565            284                 295   \n",
       "\n",
       "   Email_Impressions  Facebook_Impressions  Affiliate_Impressions  \\\n",
       "0        349895.0107                 73580                  12072   \n",
       "1        506270.2176                 11804                   9499   \n",
       "2        430042.1538                 52232                  17048   \n",
       "3        417745.6658                 78640                  10207   \n",
       "4        408505.8012                 40561                   5834   \n",
       "\n",
       "   Overall_Views  Sales  \n",
       "0            682  59417  \n",
       "1            853  56806  \n",
       "2            759  48715  \n",
       "3            942  72047  \n",
       "4            658  56235  "
      ]
     },
     "execution_count": 3,
     "metadata": {},
     "output_type": "execute_result"
    }
   ],
   "source": [
    "df.head()"
   ]
  },
  {
   "cell_type": "markdown",
   "id": "ef0256b7-b76c-46e9-8e46-ff36476445da",
   "metadata": {},
   "source": [
    "Basic info"
   ]
  },
  {
   "cell_type": "code",
   "execution_count": 4,
   "id": "ba1f4333-c3b5-43cc-9c06-2a081c86f56e",
   "metadata": {},
   "outputs": [
    {
     "name": "stdout",
     "output_type": "stream",
     "text": [
      "<class 'pandas.core.frame.DataFrame'>\n",
      "RangeIndex: 3051 entries, 0 to 3050\n",
      "Data columns (total 10 columns):\n",
      " #   Column                 Non-Null Count  Dtype  \n",
      "---  ------                 --------------  -----  \n",
      " 0   Division               3051 non-null   object \n",
      " 1   Calendar_Week          3051 non-null   object \n",
      " 2   Paid_Views             3051 non-null   int64  \n",
      " 3   Organic_Views          3051 non-null   int64  \n",
      " 4   Google_Impressions     3051 non-null   int64  \n",
      " 5   Email_Impressions      3051 non-null   float64\n",
      " 6   Facebook_Impressions   3051 non-null   int64  \n",
      " 7   Affiliate_Impressions  3051 non-null   int64  \n",
      " 8   Overall_Views          3051 non-null   int64  \n",
      " 9   Sales                  3051 non-null   int64  \n",
      "dtypes: float64(1), int64(7), object(2)\n",
      "memory usage: 238.5+ KB\n"
     ]
    }
   ],
   "source": [
    "df.info()"
   ]
  },
  {
   "cell_type": "markdown",
   "id": "bd1dff9f-2532-43ed-a563-a1abdb9c227c",
   "metadata": {},
   "source": [
    "Summary statistics"
   ]
  },
  {
   "cell_type": "code",
   "execution_count": 5,
   "id": "4c471064-4927-4a3c-aec6-1b9edf279ceb",
   "metadata": {},
   "outputs": [
    {
     "data": {
      "text/html": [
       "<div>\n",
       "<style scoped>\n",
       "    .dataframe tbody tr th:only-of-type {\n",
       "        vertical-align: middle;\n",
       "    }\n",
       "\n",
       "    .dataframe tbody tr th {\n",
       "        vertical-align: top;\n",
       "    }\n",
       "\n",
       "    .dataframe thead th {\n",
       "        text-align: right;\n",
       "    }\n",
       "</style>\n",
       "<table border=\"1\" class=\"dataframe\">\n",
       "  <thead>\n",
       "    <tr style=\"text-align: right;\">\n",
       "      <th></th>\n",
       "      <th>Paid_Views</th>\n",
       "      <th>Organic_Views</th>\n",
       "      <th>Google_Impressions</th>\n",
       "      <th>Email_Impressions</th>\n",
       "      <th>Facebook_Impressions</th>\n",
       "      <th>Affiliate_Impressions</th>\n",
       "      <th>Overall_Views</th>\n",
       "      <th>Sales</th>\n",
       "    </tr>\n",
       "  </thead>\n",
       "  <tbody>\n",
       "    <tr>\n",
       "      <th>count</th>\n",
       "      <td>3051.000000</td>\n",
       "      <td>3051.000000</td>\n",
       "      <td>3.051000e+03</td>\n",
       "      <td>3.051000e+03</td>\n",
       "      <td>3.051000e+03</td>\n",
       "      <td>3051.000000</td>\n",
       "      <td>3051.000000</td>\n",
       "      <td>3.051000e+03</td>\n",
       "    </tr>\n",
       "    <tr>\n",
       "      <th>mean</th>\n",
       "      <td>15093.941658</td>\n",
       "      <td>13355.673222</td>\n",
       "      <td>8.861738e+05</td>\n",
       "      <td>7.605094e+05</td>\n",
       "      <td>2.691269e+05</td>\n",
       "      <td>22910.902655</td>\n",
       "      <td>27980.914127</td>\n",
       "      <td>1.859014e+05</td>\n",
       "    </tr>\n",
       "    <tr>\n",
       "      <th>std</th>\n",
       "      <td>30785.884979</td>\n",
       "      <td>24079.399689</td>\n",
       "      <td>1.355076e+06</td>\n",
       "      <td>6.260141e+05</td>\n",
       "      <td>4.665117e+05</td>\n",
       "      <td>21617.637497</td>\n",
       "      <td>52054.976687</td>\n",
       "      <td>2.322079e+05</td>\n",
       "    </tr>\n",
       "    <tr>\n",
       "      <th>min</th>\n",
       "      <td>1.000000</td>\n",
       "      <td>1.000000</td>\n",
       "      <td>7.000000e+00</td>\n",
       "      <td>4.089445e+04</td>\n",
       "      <td>2.900000e+01</td>\n",
       "      <td>910.000000</td>\n",
       "      <td>2.000000</td>\n",
       "      <td>1.543600e+04</td>\n",
       "    </tr>\n",
       "    <tr>\n",
       "      <th>25%</th>\n",
       "      <td>537.000000</td>\n",
       "      <td>712.500000</td>\n",
       "      <td>1.698280e+05</td>\n",
       "      <td>3.784969e+05</td>\n",
       "      <td>5.707350e+04</td>\n",
       "      <td>9127.000000</td>\n",
       "      <td>747.000000</td>\n",
       "      <td>7.339350e+04</td>\n",
       "    </tr>\n",
       "    <tr>\n",
       "      <th>50%</th>\n",
       "      <td>2699.000000</td>\n",
       "      <td>4110.000000</td>\n",
       "      <td>4.905310e+05</td>\n",
       "      <td>5.909708e+05</td>\n",
       "      <td>1.275230e+05</td>\n",
       "      <td>16658.000000</td>\n",
       "      <td>7879.000000</td>\n",
       "      <td>1.135730e+05</td>\n",
       "    </tr>\n",
       "    <tr>\n",
       "      <th>75%</th>\n",
       "      <td>17358.000000</td>\n",
       "      <td>16230.500000</td>\n",
       "      <td>1.022622e+06</td>\n",
       "      <td>9.622466e+05</td>\n",
       "      <td>2.835050e+05</td>\n",
       "      <td>27486.500000</td>\n",
       "      <td>34111.500000</td>\n",
       "      <td>2.029755e+05</td>\n",
       "    </tr>\n",
       "    <tr>\n",
       "      <th>max</th>\n",
       "      <td>518190.000000</td>\n",
       "      <td>270453.000000</td>\n",
       "      <td>1.715044e+07</td>\n",
       "      <td>7.317730e+06</td>\n",
       "      <td>7.558435e+06</td>\n",
       "      <td>175791.000000</td>\n",
       "      <td>635057.000000</td>\n",
       "      <td>3.575430e+06</td>\n",
       "    </tr>\n",
       "  </tbody>\n",
       "</table>\n",
       "</div>"
      ],
      "text/plain": [
       "          Paid_Views  Organic_Views  Google_Impressions  Email_Impressions  \\\n",
       "count    3051.000000    3051.000000        3.051000e+03       3.051000e+03   \n",
       "mean    15093.941658   13355.673222        8.861738e+05       7.605094e+05   \n",
       "std     30785.884979   24079.399689        1.355076e+06       6.260141e+05   \n",
       "min         1.000000       1.000000        7.000000e+00       4.089445e+04   \n",
       "25%       537.000000     712.500000        1.698280e+05       3.784969e+05   \n",
       "50%      2699.000000    4110.000000        4.905310e+05       5.909708e+05   \n",
       "75%     17358.000000   16230.500000        1.022622e+06       9.622466e+05   \n",
       "max    518190.000000  270453.000000        1.715044e+07       7.317730e+06   \n",
       "\n",
       "       Facebook_Impressions  Affiliate_Impressions  Overall_Views  \\\n",
       "count          3.051000e+03            3051.000000    3051.000000   \n",
       "mean           2.691269e+05           22910.902655   27980.914127   \n",
       "std            4.665117e+05           21617.637497   52054.976687   \n",
       "min            2.900000e+01             910.000000       2.000000   \n",
       "25%            5.707350e+04            9127.000000     747.000000   \n",
       "50%            1.275230e+05           16658.000000    7879.000000   \n",
       "75%            2.835050e+05           27486.500000   34111.500000   \n",
       "max            7.558435e+06          175791.000000  635057.000000   \n",
       "\n",
       "              Sales  \n",
       "count  3.051000e+03  \n",
       "mean   1.859014e+05  \n",
       "std    2.322079e+05  \n",
       "min    1.543600e+04  \n",
       "25%    7.339350e+04  \n",
       "50%    1.135730e+05  \n",
       "75%    2.029755e+05  \n",
       "max    3.575430e+06  "
      ]
     },
     "execution_count": 5,
     "metadata": {},
     "output_type": "execute_result"
    }
   ],
   "source": [
    "df.describe()"
   ]
  },
  {
   "cell_type": "markdown",
   "id": "8f0be442-3b74-404f-8ba0-f5a151ee4b2a",
   "metadata": {},
   "source": [
    "### 2. Processing data"
   ]
  },
  {
   "cell_type": "markdown",
   "id": "d046fa77-8d25-465b-a8dc-f0a62e8dda0c",
   "metadata": {},
   "source": [
    "Convert Calendar_Week to datetime"
   ]
  },
  {
   "cell_type": "code",
   "execution_count": 6,
   "id": "ec73c2d0-cdae-4a1a-a3aa-6bd6595571a6",
   "metadata": {},
   "outputs": [],
   "source": [
    "df['Calendar_Week'] = pd.to_datetime(df['Calendar_Week'], format='%m/%d/%Y')"
   ]
  },
  {
   "cell_type": "markdown",
   "id": "1433e823-c5d3-40c4-9734-20fb054c4b33",
   "metadata": {},
   "source": [
    "Display head"
   ]
  },
  {
   "cell_type": "code",
   "execution_count": 7,
   "id": "2f8930f5-de81-49f8-a24a-f01e2c856e32",
   "metadata": {},
   "outputs": [
    {
     "data": {
      "text/html": [
       "<div>\n",
       "<style scoped>\n",
       "    .dataframe tbody tr th:only-of-type {\n",
       "        vertical-align: middle;\n",
       "    }\n",
       "\n",
       "    .dataframe tbody tr th {\n",
       "        vertical-align: top;\n",
       "    }\n",
       "\n",
       "    .dataframe thead th {\n",
       "        text-align: right;\n",
       "    }\n",
       "</style>\n",
       "<table border=\"1\" class=\"dataframe\">\n",
       "  <thead>\n",
       "    <tr style=\"text-align: right;\">\n",
       "      <th></th>\n",
       "      <th>Division</th>\n",
       "      <th>Calendar_Week</th>\n",
       "      <th>Paid_Views</th>\n",
       "      <th>Organic_Views</th>\n",
       "      <th>Google_Impressions</th>\n",
       "      <th>Email_Impressions</th>\n",
       "      <th>Facebook_Impressions</th>\n",
       "      <th>Affiliate_Impressions</th>\n",
       "      <th>Overall_Views</th>\n",
       "      <th>Sales</th>\n",
       "    </tr>\n",
       "  </thead>\n",
       "  <tbody>\n",
       "    <tr>\n",
       "      <th>0</th>\n",
       "      <td>A</td>\n",
       "      <td>2018-01-06</td>\n",
       "      <td>392</td>\n",
       "      <td>422</td>\n",
       "      <td>408</td>\n",
       "      <td>349895.0107</td>\n",
       "      <td>73580</td>\n",
       "      <td>12072</td>\n",
       "      <td>682</td>\n",
       "      <td>59417</td>\n",
       "    </tr>\n",
       "    <tr>\n",
       "      <th>1</th>\n",
       "      <td>A</td>\n",
       "      <td>2018-01-13</td>\n",
       "      <td>787</td>\n",
       "      <td>904</td>\n",
       "      <td>110</td>\n",
       "      <td>506270.2176</td>\n",
       "      <td>11804</td>\n",
       "      <td>9499</td>\n",
       "      <td>853</td>\n",
       "      <td>56806</td>\n",
       "    </tr>\n",
       "    <tr>\n",
       "      <th>2</th>\n",
       "      <td>A</td>\n",
       "      <td>2018-01-20</td>\n",
       "      <td>81</td>\n",
       "      <td>970</td>\n",
       "      <td>742</td>\n",
       "      <td>430042.1538</td>\n",
       "      <td>52232</td>\n",
       "      <td>17048</td>\n",
       "      <td>759</td>\n",
       "      <td>48715</td>\n",
       "    </tr>\n",
       "    <tr>\n",
       "      <th>3</th>\n",
       "      <td>A</td>\n",
       "      <td>2018-01-27</td>\n",
       "      <td>25</td>\n",
       "      <td>575</td>\n",
       "      <td>65</td>\n",
       "      <td>417745.6658</td>\n",
       "      <td>78640</td>\n",
       "      <td>10207</td>\n",
       "      <td>942</td>\n",
       "      <td>72047</td>\n",
       "    </tr>\n",
       "    <tr>\n",
       "      <th>4</th>\n",
       "      <td>A</td>\n",
       "      <td>2018-02-03</td>\n",
       "      <td>565</td>\n",
       "      <td>284</td>\n",
       "      <td>295</td>\n",
       "      <td>408505.8012</td>\n",
       "      <td>40561</td>\n",
       "      <td>5834</td>\n",
       "      <td>658</td>\n",
       "      <td>56235</td>\n",
       "    </tr>\n",
       "  </tbody>\n",
       "</table>\n",
       "</div>"
      ],
      "text/plain": [
       "  Division Calendar_Week  Paid_Views  Organic_Views  Google_Impressions  \\\n",
       "0        A    2018-01-06         392            422                 408   \n",
       "1        A    2018-01-13         787            904                 110   \n",
       "2        A    2018-01-20          81            970                 742   \n",
       "3        A    2018-01-27          25            575                  65   \n",
       "4        A    2018-02-03         565            284                 295   \n",
       "\n",
       "   Email_Impressions  Facebook_Impressions  Affiliate_Impressions  \\\n",
       "0        349895.0107                 73580                  12072   \n",
       "1        506270.2176                 11804                   9499   \n",
       "2        430042.1538                 52232                  17048   \n",
       "3        417745.6658                 78640                  10207   \n",
       "4        408505.8012                 40561                   5834   \n",
       "\n",
       "   Overall_Views  Sales  \n",
       "0            682  59417  \n",
       "1            853  56806  \n",
       "2            759  48715  \n",
       "3            942  72047  \n",
       "4            658  56235  "
      ]
     },
     "execution_count": 7,
     "metadata": {},
     "output_type": "execute_result"
    }
   ],
   "source": [
    "df.head()"
   ]
  },
  {
   "cell_type": "markdown",
   "id": "5e98f7e3-3ec5-4b94-aa3e-e19112cbbb56",
   "metadata": {},
   "source": [
    "Check for missing values"
   ]
  },
  {
   "cell_type": "code",
   "execution_count": 8,
   "id": "0960b516-a807-42d2-b2cf-1bd8dc02f966",
   "metadata": {},
   "outputs": [
    {
     "data": {
      "text/plain": [
       "Division                 0\n",
       "Calendar_Week            0\n",
       "Paid_Views               0\n",
       "Organic_Views            0\n",
       "Google_Impressions       0\n",
       "Email_Impressions        0\n",
       "Facebook_Impressions     0\n",
       "Affiliate_Impressions    0\n",
       "Overall_Views            0\n",
       "Sales                    0\n",
       "dtype: int64"
      ]
     },
     "execution_count": 8,
     "metadata": {},
     "output_type": "execute_result"
    }
   ],
   "source": [
    "df.isnull().sum()"
   ]
  },
  {
   "cell_type": "markdown",
   "id": "3fcc7a02-91c9-4f5d-ba03-4c2181b2b27b",
   "metadata": {},
   "source": [
    "##### Comment: NO missings"
   ]
  },
  {
   "cell_type": "markdown",
   "id": "75db6de6-fe94-430c-abc8-867221806170",
   "metadata": {},
   "source": [
    "### 3. Plot sales over time"
   ]
  },
  {
   "cell_type": "code",
   "execution_count": 9,
   "id": "e3c42784-d320-4289-8512-b77e9506eac4",
   "metadata": {},
   "outputs": [
    {
     "data": {
      "image/png": "[encoded data removed]",
      "text/plain": [
       "<Figure size 1200x400 with 1 Axes>"
      ]
     },
     "metadata": {},
     "output_type": "display_data"
    }
   ],
   "source": [
    "plt.figure(figsize=(12, 4))\n",
    "sns.lineplot(x='Calendar_Week', y='Sales', data=df)\n",
    "plt.title('Weekly Sales Over Time')\n",
    "plt.xlabel('Week')\n",
    "plt.ylabel('Sales')\n",
    "plt.tight_layout()\n",
    "plt.show()"
   ]
  },
  {
   "cell_type": "code",
   "execution_count": null,
   "id": "d1660364-a230-4f68-a4e1-e25c5e8ddb0b",
   "metadata": {},
   "outputs": [],
   "source": []
  }
 ],
 "metadata": {
  "kernelspec": {
   "display_name": "Python 3 (ipykernel)",
   "language": "python",
   "name": "python3"
  },
  "language_info": {
   "codemirror_mode": {
    "name": "ipython",
    "version": 3
   },
   "file_extension": ".py",
   "mimetype": "text/x-python",
   "name": "python",
   "nbconvert_exporter": "python",
   "pygments_lexer": "ipython3",
   "version": "3.12.2"
  }
 },
 "nbformat": 4,
 "nbformat_minor": 5
}
