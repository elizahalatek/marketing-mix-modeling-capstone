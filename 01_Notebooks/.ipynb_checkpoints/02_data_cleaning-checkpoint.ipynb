{
 "cells": [
  {
   "cell_type": "markdown",
   "id": "db4f2018-2d1f-4b5b-809b-b16c804440e8",
   "metadata": {},
   "source": [
    "## LIBRARIES"
   ]
  },
  {
   "cell_type": "code",
   "execution_count": 7,
   "id": "d24611bd-c730-4eea-b8be-fde1175a9d71",
   "metadata": {},
   "outputs": [],
   "source": [
    "import pandas as pd\n",
    "import os\n",
    "import sys\n",
    "import os\n",
    "\n",
    "# Add the 'src' folder to the Python path\n",
    "sys.path.append(os.path.abspath('../02_Src'))\n",
    "\n",
    "from data_cleaning import clean_data"
   ]
  },
  {
   "cell_type": "markdown",
   "id": "f1346398-6caa-40d3-bcba-2cd35e2d870a",
   "metadata": {},
   "source": [
    "### 1. Load data"
   ]
  },
  {
   "cell_type": "code",
   "execution_count": 8,
   "id": "53499797-fad3-4909-82fc-16e4be743ab6",
   "metadata": {},
   "outputs": [],
   "source": [
    "df = pd.read_csv('../03_Data/01_Raw/Sample Media Spend Data.csv')"
   ]
  },
  {
   "cell_type": "markdown",
   "id": "6df48f63-509c-43b4-a178-203a70463a58",
   "metadata": {},
   "source": [
    "### 2. Apply cleaning function"
   ]
  },
  {
   "cell_type": "code",
   "execution_count": 9,
   "id": "8b34a8cf-100b-4d93-b85a-ae2fc81e9d84",
   "metadata": {},
   "outputs": [],
   "source": [
    "df_clean = clean_data(df)"
   ]
  },
  {
   "cell_type": "markdown",
   "id": "3d2031e2-7b51-4d76-8023-e8f8d29cd240",
   "metadata": {},
   "source": [
    "Important: Look at 01_data_exploration -> There is no missing data needed to be handled"
   ]
  },
  {
   "cell_type": "markdown",
   "id": "a8cebc9d-239c-4b94-b800-60c07b5941a3",
   "metadata": {},
   "source": [
    "### 3. Save cleaned data"
   ]
  },
  {
   "cell_type": "code",
   "execution_count": 10,
   "id": "ff76dddf-6e74-4842-81de-afa52864a581",
   "metadata": {},
   "outputs": [],
   "source": [
    "df_clean.to_csv('../03_Data/02_Processed/media_spend_clean.csv', index=False)"
   ]
  },
  {
   "cell_type": "markdown",
   "id": "f5fc9116-5ebc-43e2-bd25-cb673087b8cf",
   "metadata": {},
   "source": [
    "Display head"
   ]
  },
  {
   "cell_type": "code",
   "execution_count": 11,
   "id": "96bb5b13-737a-465c-863c-42cde9f0cde9",
   "metadata": {},
   "outputs": [
    {
     "data": {
      "text/html": [
       "<div>\n",
       "<style scoped>\n",
       "    .dataframe tbody tr th:only-of-type {\n",
       "        vertical-align: middle;\n",
       "    }\n",
       "\n",
       "    .dataframe tbody tr th {\n",
       "        vertical-align: top;\n",
       "    }\n",
       "\n",
       "    .dataframe thead th {\n",
       "        text-align: right;\n",
       "    }\n",
       "</style>\n",
       "<table border=\"1\" class=\"dataframe\">\n",
       "  <thead>\n",
       "    <tr style=\"text-align: right;\">\n",
       "      <th></th>\n",
       "      <th>Division</th>\n",
       "      <th>Calendar_Week</th>\n",
       "      <th>Paid_Views</th>\n",
       "      <th>Organic_Views</th>\n",
       "      <th>Google_Impressions</th>\n",
       "      <th>Email_Impressions</th>\n",
       "      <th>Facebook_Impressions</th>\n",
       "      <th>Affiliate_Impressions</th>\n",
       "      <th>Overall_Views</th>\n",
       "      <th>Sales</th>\n",
       "    </tr>\n",
       "  </thead>\n",
       "  <tbody>\n",
       "    <tr>\n",
       "      <th>0</th>\n",
       "      <td>A</td>\n",
       "      <td>2018-01-06</td>\n",
       "      <td>392</td>\n",
       "      <td>422</td>\n",
       "      <td>408</td>\n",
       "      <td>349895.0107</td>\n",
       "      <td>73580</td>\n",
       "      <td>12072</td>\n",
       "      <td>682</td>\n",
       "      <td>59417</td>\n",
       "    </tr>\n",
       "    <tr>\n",
       "      <th>1</th>\n",
       "      <td>A</td>\n",
       "      <td>2018-01-13</td>\n",
       "      <td>787</td>\n",
       "      <td>904</td>\n",
       "      <td>110</td>\n",
       "      <td>506270.2176</td>\n",
       "      <td>11804</td>\n",
       "      <td>9499</td>\n",
       "      <td>853</td>\n",
       "      <td>56806</td>\n",
       "    </tr>\n",
       "    <tr>\n",
       "      <th>2</th>\n",
       "      <td>A</td>\n",
       "      <td>2018-01-20</td>\n",
       "      <td>81</td>\n",
       "      <td>970</td>\n",
       "      <td>742</td>\n",
       "      <td>430042.1538</td>\n",
       "      <td>52232</td>\n",
       "      <td>17048</td>\n",
       "      <td>759</td>\n",
       "      <td>48715</td>\n",
       "    </tr>\n",
       "    <tr>\n",
       "      <th>3</th>\n",
       "      <td>A</td>\n",
       "      <td>2018-01-27</td>\n",
       "      <td>25</td>\n",
       "      <td>575</td>\n",
       "      <td>65</td>\n",
       "      <td>417745.6658</td>\n",
       "      <td>78640</td>\n",
       "      <td>10207</td>\n",
       "      <td>942</td>\n",
       "      <td>72047</td>\n",
       "    </tr>\n",
       "    <tr>\n",
       "      <th>4</th>\n",
       "      <td>A</td>\n",
       "      <td>2018-02-03</td>\n",
       "      <td>565</td>\n",
       "      <td>284</td>\n",
       "      <td>295</td>\n",
       "      <td>408505.8012</td>\n",
       "      <td>40561</td>\n",
       "      <td>5834</td>\n",
       "      <td>658</td>\n",
       "      <td>56235</td>\n",
       "    </tr>\n",
       "  </tbody>\n",
       "</table>\n",
       "</div>"
      ],
      "text/plain": [
       "  Division Calendar_Week  Paid_Views  Organic_Views  Google_Impressions  \\\n",
       "0        A    2018-01-06         392            422                 408   \n",
       "1        A    2018-01-13         787            904                 110   \n",
       "2        A    2018-01-20          81            970                 742   \n",
       "3        A    2018-01-27          25            575                  65   \n",
       "4        A    2018-02-03         565            284                 295   \n",
       "\n",
       "   Email_Impressions  Facebook_Impressions  Affiliate_Impressions  \\\n",
       "0        349895.0107                 73580                  12072   \n",
       "1        506270.2176                 11804                   9499   \n",
       "2        430042.1538                 52232                  17048   \n",
       "3        417745.6658                 78640                  10207   \n",
       "4        408505.8012                 40561                   5834   \n",
       "\n",
       "   Overall_Views  Sales  \n",
       "0            682  59417  \n",
       "1            853  56806  \n",
       "2            759  48715  \n",
       "3            942  72047  \n",
       "4            658  56235  "
      ]
     },
     "execution_count": 11,
     "metadata": {},
     "output_type": "execute_result"
    }
   ],
   "source": [
    "df_clean.head()"
   ]
  }
 ],
 "metadata": {
  "kernelspec": {
   "display_name": "Python 3 (ipykernel)",
   "language": "python",
   "name": "python3"
  },
  "language_info": {
   "codemirror_mode": {
    "name": "ipython",
    "version": 3
   },
   "file_extension": ".py",
   "mimetype": "text/x-python",
   "name": "python",
   "nbconvert_exporter": "python",
   "pygments_lexer": "ipython3",
   "version": "3.12.2"
  }
 },
 "nbformat": 4,
 "nbformat_minor": 5
}
