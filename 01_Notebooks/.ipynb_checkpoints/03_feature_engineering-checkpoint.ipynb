{
 "cells": [
  {
   "cell_type": "markdown",
   "id": "b78ff102-357d-4ac2-bb4d-b4a5d950e2d3",
   "metadata": {},
   "source": [
    "## LIBRARIES"
   ]
  },
  {
   "cell_type": "code",
   "execution_count": 1,
   "id": "ccb42422-dd55-4fc4-aa43-2f4b3009fb9d",
   "metadata": {},
   "outputs": [],
   "source": [
    "import pandas as pd\n",
    "import os\n",
    "import sys\n",
    "import numpy as np\n",
    "\n",
    "# Add the 'src' folder to the Python path\n",
    "sys.path.append(os.path.abspath('../02_Src'))\n",
    "\n",
    "from feature_engineering import add_seasonal_features, apply_adstock"
   ]
  },
  {
   "cell_type": "markdown",
   "id": "d80435a7-c93a-4929-afb5-57f24d3c7f84",
   "metadata": {},
   "source": [
    "### 1. Load data"
   ]
  },
  {
   "cell_type": "code",
   "execution_count": 2,
   "id": "e7115802-1a52-4392-a750-02eb2d230763",
   "metadata": {},
   "outputs": [],
   "source": [
    "df = pd.read_csv('../03_Data/02_Processed/media_spend_clean.csv')"
   ]
  },
  {
   "cell_type": "markdown",
   "id": "83b1ea88-e111-44dd-9df1-9518eaac2a03",
   "metadata": {},
   "source": [
    "### 2. Data Processing"
   ]
  },
  {
   "cell_type": "code",
   "execution_count": 3,
   "id": "43c6cde8-123a-4235-867f-762c97e1ea7d",
   "metadata": {},
   "outputs": [],
   "source": [
    "df['Calendar_Week'] = pd.to_datetime(df['Calendar_Week'])"
   ]
  },
  {
   "cell_type": "markdown",
   "id": "07c33ef5-bc34-442b-b65c-dce1dd8ab396",
   "metadata": {},
   "source": [
    "### 3. Seasonality features "
   ]
  },
  {
   "cell_type": "markdown",
   "id": "672a8ca9-0212-4128-8be7-f6dc293a437f",
   "metadata": {},
   "source": [
    "Note: There was no info on country, thus we are only indluding those \"popular\" rather than country - specific christmas effects"
   ]
  },
  {
   "cell_type": "code",
   "execution_count": 4,
   "id": "8b60fff1-9460-48ba-8ab4-2ca2ed0d27eb",
   "metadata": {},
   "outputs": [],
   "source": [
    "df = add_seasonal_features(df)"
   ]
  },
  {
   "cell_type": "markdown",
   "id": "a638e503-43d1-46cb-a387-9c09e716ef4b",
   "metadata": {},
   "source": [
    "### 4. Define media channels to apply adstock to"
   ]
  },
  {
   "cell_type": "code",
   "execution_count": 5,
   "id": "b5eddb3a-d998-4f96-8d21-ed0eb11c6f8e",
   "metadata": {},
   "outputs": [],
   "source": [
    "media_channels = [\n",
    "    'Facebook_Impressions',\n",
    "    'Google_Impressions',\n",
    "    'Email_Impressions',\n",
    "    'Affiliate_Impressions',\n",
    "    'Paid_Views'\n",
    "]"
   ]
  },
  {
   "cell_type": "markdown",
   "id": "3cdce08a-8240-4f95-b84e-080468fbdc3f",
   "metadata": {},
   "source": [
    "### 5. Apply adstock with default decay (0.5)"
   ]
  },
  {
   "cell_type": "code",
   "execution_count": 6,
   "id": "e53cf93b-fcf4-4203-91a6-2042baa08d81",
   "metadata": {},
   "outputs": [],
   "source": [
    "for col in media_channels:\n",
    "    df[f'{col}_adstock'] = apply_adstock(df[col], decay=0.5)\n",
    "    df[f'{col}_adstock_log'] = np.log1p(df[f'{col}_adstock'])"
   ]
  },
  {
   "cell_type": "markdown",
   "id": "72d38e3d-539e-411d-ad27-ee32e907abee",
   "metadata": {},
   "source": [
    "### 6. Save data"
   ]
  },
  {
   "cell_type": "code",
   "execution_count": 7,
   "id": "1a9cdbd7-e67f-4b35-8492-d242baf7d065",
   "metadata": {},
   "outputs": [],
   "source": [
    "df.to_csv('../03_Data/02_Processed/media_spend_final_features.csv', index=False)"
   ]
  },
  {
   "cell_type": "markdown",
   "id": "15e9a648-85f1-4d01-942d-01003d1fde7e",
   "metadata": {},
   "source": [
    "Display head "
   ]
  },
  {
   "cell_type": "code",
   "execution_count": 8,
   "id": "f373c108-dc63-483d-a24a-35cb3169f508",
   "metadata": {},
   "outputs": [
    {
     "data": {
      "text/html": [
       "<div>\n",
       "<style scoped>\n",
       "    .dataframe tbody tr th:only-of-type {\n",
       "        vertical-align: middle;\n",
       "    }\n",
       "\n",
       "    .dataframe tbody tr th {\n",
       "        vertical-align: top;\n",
       "    }\n",
       "\n",
       "    .dataframe thead th {\n",
       "        text-align: right;\n",
       "    }\n",
       "</style>\n",
       "<table border=\"1\" class=\"dataframe\">\n",
       "  <thead>\n",
       "    <tr style=\"text-align: right;\">\n",
       "      <th></th>\n",
       "      <th>Division</th>\n",
       "      <th>Calendar_Week</th>\n",
       "      <th>Paid_Views</th>\n",
       "      <th>Organic_Views</th>\n",
       "      <th>Google_Impressions</th>\n",
       "      <th>Email_Impressions</th>\n",
       "      <th>Facebook_Impressions</th>\n",
       "      <th>Affiliate_Impressions</th>\n",
       "      <th>Overall_Views</th>\n",
       "      <th>Sales</th>\n",
       "      <th>...</th>\n",
       "      <th>Facebook_Impressions_adstock</th>\n",
       "      <th>Facebook_Impressions_adstock_log</th>\n",
       "      <th>Google_Impressions_adstock</th>\n",
       "      <th>Google_Impressions_adstock_log</th>\n",
       "      <th>Email_Impressions_adstock</th>\n",
       "      <th>Email_Impressions_adstock_log</th>\n",
       "      <th>Affiliate_Impressions_adstock</th>\n",
       "      <th>Affiliate_Impressions_adstock_log</th>\n",
       "      <th>Paid_Views_adstock</th>\n",
       "      <th>Paid_Views_adstock_log</th>\n",
       "    </tr>\n",
       "  </thead>\n",
       "  <tbody>\n",
       "    <tr>\n",
       "      <th>0</th>\n",
       "      <td>A</td>\n",
       "      <td>2018-01-06</td>\n",
       "      <td>392</td>\n",
       "      <td>422</td>\n",
       "      <td>408</td>\n",
       "      <td>349895.0107</td>\n",
       "      <td>73580</td>\n",
       "      <td>12072</td>\n",
       "      <td>682</td>\n",
       "      <td>59417</td>\n",
       "      <td>...</td>\n",
       "      <td>73580.00</td>\n",
       "      <td>11.206142</td>\n",
       "      <td>408.00</td>\n",
       "      <td>6.013715</td>\n",
       "      <td>349895.010700</td>\n",
       "      <td>12.765391</td>\n",
       "      <td>12072.000</td>\n",
       "      <td>9.398727</td>\n",
       "      <td>392.000</td>\n",
       "      <td>5.973810</td>\n",
       "    </tr>\n",
       "    <tr>\n",
       "      <th>1</th>\n",
       "      <td>A</td>\n",
       "      <td>2018-01-13</td>\n",
       "      <td>787</td>\n",
       "      <td>904</td>\n",
       "      <td>110</td>\n",
       "      <td>506270.2176</td>\n",
       "      <td>11804</td>\n",
       "      <td>9499</td>\n",
       "      <td>853</td>\n",
       "      <td>56806</td>\n",
       "      <td>...</td>\n",
       "      <td>48594.00</td>\n",
       "      <td>10.791276</td>\n",
       "      <td>314.00</td>\n",
       "      <td>5.752573</td>\n",
       "      <td>681217.722950</td>\n",
       "      <td>13.431639</td>\n",
       "      <td>15535.000</td>\n",
       "      <td>9.650915</td>\n",
       "      <td>983.000</td>\n",
       "      <td>6.891626</td>\n",
       "    </tr>\n",
       "    <tr>\n",
       "      <th>2</th>\n",
       "      <td>A</td>\n",
       "      <td>2018-01-20</td>\n",
       "      <td>81</td>\n",
       "      <td>970</td>\n",
       "      <td>742</td>\n",
       "      <td>430042.1538</td>\n",
       "      <td>52232</td>\n",
       "      <td>17048</td>\n",
       "      <td>759</td>\n",
       "      <td>48715</td>\n",
       "      <td>...</td>\n",
       "      <td>76529.00</td>\n",
       "      <td>11.245438</td>\n",
       "      <td>899.00</td>\n",
       "      <td>6.802395</td>\n",
       "      <td>770651.015275</td>\n",
       "      <td>13.554992</td>\n",
       "      <td>24815.500</td>\n",
       "      <td>10.119264</td>\n",
       "      <td>572.500</td>\n",
       "      <td>6.351758</td>\n",
       "    </tr>\n",
       "    <tr>\n",
       "      <th>3</th>\n",
       "      <td>A</td>\n",
       "      <td>2018-01-27</td>\n",
       "      <td>25</td>\n",
       "      <td>575</td>\n",
       "      <td>65</td>\n",
       "      <td>417745.6658</td>\n",
       "      <td>78640</td>\n",
       "      <td>10207</td>\n",
       "      <td>942</td>\n",
       "      <td>72047</td>\n",
       "      <td>...</td>\n",
       "      <td>116904.50</td>\n",
       "      <td>11.669121</td>\n",
       "      <td>514.50</td>\n",
       "      <td>6.245137</td>\n",
       "      <td>803071.173437</td>\n",
       "      <td>13.596200</td>\n",
       "      <td>22614.750</td>\n",
       "      <td>10.026402</td>\n",
       "      <td>311.250</td>\n",
       "      <td>5.743804</td>\n",
       "    </tr>\n",
       "    <tr>\n",
       "      <th>4</th>\n",
       "      <td>A</td>\n",
       "      <td>2018-02-03</td>\n",
       "      <td>565</td>\n",
       "      <td>284</td>\n",
       "      <td>295</td>\n",
       "      <td>408505.8012</td>\n",
       "      <td>40561</td>\n",
       "      <td>5834</td>\n",
       "      <td>658</td>\n",
       "      <td>56235</td>\n",
       "      <td>...</td>\n",
       "      <td>99013.25</td>\n",
       "      <td>11.503019</td>\n",
       "      <td>552.25</td>\n",
       "      <td>6.315810</td>\n",
       "      <td>810041.387919</td>\n",
       "      <td>13.604842</td>\n",
       "      <td>17141.375</td>\n",
       "      <td>9.749309</td>\n",
       "      <td>720.625</td>\n",
       "      <td>6.581506</td>\n",
       "    </tr>\n",
       "  </tbody>\n",
       "</table>\n",
       "<p>5 rows × 29 columns</p>\n",
       "</div>"
      ],
      "text/plain": [
       "  Division Calendar_Week  Paid_Views  Organic_Views  Google_Impressions  \\\n",
       "0        A    2018-01-06         392            422                 408   \n",
       "1        A    2018-01-13         787            904                 110   \n",
       "2        A    2018-01-20          81            970                 742   \n",
       "3        A    2018-01-27          25            575                  65   \n",
       "4        A    2018-02-03         565            284                 295   \n",
       "\n",
       "   Email_Impressions  Facebook_Impressions  Affiliate_Impressions  \\\n",
       "0        349895.0107                 73580                  12072   \n",
       "1        506270.2176                 11804                   9499   \n",
       "2        430042.1538                 52232                  17048   \n",
       "3        417745.6658                 78640                  10207   \n",
       "4        408505.8012                 40561                   5834   \n",
       "\n",
       "   Overall_Views  Sales  ...  Facebook_Impressions_adstock  \\\n",
       "0            682  59417  ...                      73580.00   \n",
       "1            853  56806  ...                      48594.00   \n",
       "2            759  48715  ...                      76529.00   \n",
       "3            942  72047  ...                     116904.50   \n",
       "4            658  56235  ...                      99013.25   \n",
       "\n",
       "   Facebook_Impressions_adstock_log  Google_Impressions_adstock  \\\n",
       "0                         11.206142                      408.00   \n",
       "1                         10.791276                      314.00   \n",
       "2                         11.245438                      899.00   \n",
       "3                         11.669121                      514.50   \n",
       "4                         11.503019                      552.25   \n",
       "\n",
       "   Google_Impressions_adstock_log  Email_Impressions_adstock  \\\n",
       "0                        6.013715              349895.010700   \n",
       "1                        5.752573              681217.722950   \n",
       "2                        6.802395              770651.015275   \n",
       "3                        6.245137              803071.173437   \n",
       "4                        6.315810              810041.387919   \n",
       "\n",
       "   Email_Impressions_adstock_log  Affiliate_Impressions_adstock  \\\n",
       "0                      12.765391                      12072.000   \n",
       "1                      13.431639                      15535.000   \n",
       "2                      13.554992                      24815.500   \n",
       "3                      13.596200                      22614.750   \n",
       "4                      13.604842                      17141.375   \n",
       "\n",
       "   Affiliate_Impressions_adstock_log  Paid_Views_adstock  \\\n",
       "0                           9.398727             392.000   \n",
       "1                           9.650915             983.000   \n",
       "2                          10.119264             572.500   \n",
       "3                          10.026402             311.250   \n",
       "4                           9.749309             720.625   \n",
       "\n",
       "   Paid_Views_adstock_log  \n",
       "0                5.973810  \n",
       "1                6.891626  \n",
       "2                6.351758  \n",
       "3                5.743804  \n",
       "4                6.581506  \n",
       "\n",
       "[5 rows x 29 columns]"
      ]
     },
     "execution_count": 8,
     "metadata": {},
     "output_type": "execute_result"
    }
   ],
   "source": [
    "df.head()"
   ]
  },
  {
   "cell_type": "code",
   "execution_count": null,
   "id": "616d70d8-a110-4110-ace6-2b32c9c45c2b",
   "metadata": {},
   "outputs": [],
   "source": []
  }
 ],
 "metadata": {
  "kernelspec": {
   "display_name": "Python 3 (ipykernel)",
   "language": "python",
   "name": "python3"
  },
  "language_info": {
   "codemirror_mode": {
    "name": "ipython",
    "version": 3
   },
   "file_extension": ".py",
   "mimetype": "text/x-python",
   "name": "python",
   "nbconvert_exporter": "python",
   "pygments_lexer": "ipython3",
   "version": "3.12.2"
  }
 },
 "nbformat": 4,
 "nbformat_minor": 5
}
